{
 "cells": [
  {
   "cell_type": "code",
   "execution_count": 4,
   "metadata": {},
   "outputs": [],
   "source": [
    "from datasets import load_dataset"
   ]
  },
  {
   "cell_type": "code",
   "execution_count": 5,
   "metadata": {},
   "outputs": [],
   "source": [
    "dataset = load_dataset('swamysharavana/steam_games.csv')"
   ]
  },
  {
   "cell_type": "code",
   "execution_count": 6,
   "metadata": {},
   "outputs": [
    {
     "data": {
      "text/plain": [
       "DatasetDict({\n",
       "    train: Dataset({\n",
       "        features: ['url', 'types', 'name', 'desc_snippet', 'recent_reviews', 'all_reviews', 'release_date', 'developer', 'publisher', 'popular_tags', 'game_details', 'languages', 'achievements', 'genre', 'game_description', 'mature_content', 'minimum_requirements', 'recommended_requirements', 'original_price', 'discount_price'],\n",
       "        num_rows: 40833\n",
       "    })\n",
       "})"
      ]
     },
     "execution_count": 6,
     "metadata": {},
     "output_type": "execute_result"
    }
   ],
   "source": [
    "dataset"
   ]
  },
  {
   "cell_type": "code",
   "execution_count": 7,
   "metadata": {},
   "outputs": [],
   "source": [
    "import pandas as pd"
   ]
  },
  {
   "cell_type": "code",
   "execution_count": 11,
   "metadata": {},
   "outputs": [],
   "source": [
    "df = pd.DataFrame(dataset['train'])"
   ]
  },
  {
   "cell_type": "code",
   "execution_count": 10,
   "metadata": {},
   "outputs": [
    {
     "name": "stdout",
     "output_type": "stream",
     "text": [
      "WARNING:tensorflow:From c:\\Users\\USER\\anaconda3\\envs\\hi\\lib\\site-packages\\keras\\src\\losses.py:2976: The name tf.losses.sparse_softmax_cross_entropy is deprecated. Please use tf.compat.v1.losses.sparse_softmax_cross_entropy instead.\n",
      "\n"
     ]
    }
   ],
   "source": [
    "import pandas as pd\n",
    "import numpy as np\n",
    "from sentence_transformers import SentenceTransformer\n",
    "from sklearn.metrics.pairwise import cosine_similarity"
   ]
  },
  {
   "cell_type": "code",
   "execution_count": 12,
   "metadata": {},
   "outputs": [
    {
     "data": {
      "text/html": [
       "<div>\n",
       "<style scoped>\n",
       "    .dataframe tbody tr th:only-of-type {\n",
       "        vertical-align: middle;\n",
       "    }\n",
       "\n",
       "    .dataframe tbody tr th {\n",
       "        vertical-align: top;\n",
       "    }\n",
       "\n",
       "    .dataframe thead th {\n",
       "        text-align: right;\n",
       "    }\n",
       "</style>\n",
       "<table border=\"1\" class=\"dataframe\">\n",
       "  <thead>\n",
       "    <tr style=\"text-align: right;\">\n",
       "      <th></th>\n",
       "      <th>url</th>\n",
       "      <th>types</th>\n",
       "      <th>name</th>\n",
       "      <th>desc_snippet</th>\n",
       "      <th>recent_reviews</th>\n",
       "      <th>all_reviews</th>\n",
       "      <th>release_date</th>\n",
       "      <th>developer</th>\n",
       "      <th>publisher</th>\n",
       "      <th>popular_tags</th>\n",
       "      <th>game_details</th>\n",
       "      <th>languages</th>\n",
       "      <th>achievements</th>\n",
       "      <th>genre</th>\n",
       "      <th>game_description</th>\n",
       "      <th>mature_content</th>\n",
       "      <th>minimum_requirements</th>\n",
       "      <th>recommended_requirements</th>\n",
       "      <th>original_price</th>\n",
       "      <th>discount_price</th>\n",
       "    </tr>\n",
       "  </thead>\n",
       "  <tbody>\n",
       "    <tr>\n",
       "      <th>0</th>\n",
       "      <td>https://store.steampowered.com/app/379720/DOOM/</td>\n",
       "      <td>app</td>\n",
       "      <td>DOOM</td>\n",
       "      <td>Now includes all three premium DLC packs (Unto...</td>\n",
       "      <td>Very Positive,(554),- 89% of the 554 user revi...</td>\n",
       "      <td>Very Positive,(42,550),- 92% of the 42,550 use...</td>\n",
       "      <td>May 12, 2016</td>\n",
       "      <td>id Software</td>\n",
       "      <td>Bethesda Softworks,Bethesda Softworks</td>\n",
       "      <td>FPS,Gore,Action,Demons,Shooter,First-Person,Gr...</td>\n",
       "      <td>Single-player,Multi-player,Co-op,Steam Achieve...</td>\n",
       "      <td>English,French,Italian,German,Spanish - Spain,...</td>\n",
       "      <td>54.0</td>\n",
       "      <td>Action</td>\n",
       "      <td>About This Game Developed by id software, the...</td>\n",
       "      <td>None</td>\n",
       "      <td>Minimum:,OS:,Windows 7/8.1/10 (64-bit versions...</td>\n",
       "      <td>Recommended:,OS:,Windows 7/8.1/10 (64-bit vers...</td>\n",
       "      <td>$19.99</td>\n",
       "      <td>$14.99</td>\n",
       "    </tr>\n",
       "    <tr>\n",
       "      <th>1</th>\n",
       "      <td>https://store.steampowered.com/app/578080/PLAY...</td>\n",
       "      <td>app</td>\n",
       "      <td>PLAYERUNKNOWN'S BATTLEGROUNDS</td>\n",
       "      <td>PLAYERUNKNOWN'S BATTLEGROUNDS is a battle roya...</td>\n",
       "      <td>Mixed,(6,214),- 49% of the 6,214 user reviews ...</td>\n",
       "      <td>Mixed,(836,608),- 49% of the 836,608 user revi...</td>\n",
       "      <td>Dec 21, 2017</td>\n",
       "      <td>PUBG Corporation</td>\n",
       "      <td>PUBG Corporation,PUBG Corporation</td>\n",
       "      <td>Survival,Shooter,Multiplayer,Battle Royale,PvP...</td>\n",
       "      <td>Multi-player,Online Multi-Player,Stats</td>\n",
       "      <td>English,Korean,Simplified Chinese,French,Germa...</td>\n",
       "      <td>37.0</td>\n",
       "      <td>Action,Adventure,Massively Multiplayer</td>\n",
       "      <td>About This Game  PLAYERUNKNOWN'S BATTLEGROUND...</td>\n",
       "      <td>Mature Content Description  The developers de...</td>\n",
       "      <td>Minimum:,Requires a 64-bit processor and opera...</td>\n",
       "      <td>Recommended:,Requires a 64-bit processor and o...</td>\n",
       "      <td>$29.99</td>\n",
       "      <td>None</td>\n",
       "    </tr>\n",
       "    <tr>\n",
       "      <th>2</th>\n",
       "      <td>https://store.steampowered.com/app/637090/BATT...</td>\n",
       "      <td>app</td>\n",
       "      <td>BATTLETECH</td>\n",
       "      <td>Take command of your own mercenary outfit of '...</td>\n",
       "      <td>Mixed,(166),- 54% of the 166 user reviews in t...</td>\n",
       "      <td>Mostly Positive,(7,030),- 71% of the 7,030 use...</td>\n",
       "      <td>Apr 24, 2018</td>\n",
       "      <td>Harebrained Schemes</td>\n",
       "      <td>Paradox Interactive,Paradox Interactive</td>\n",
       "      <td>Mechs,Strategy,Turn-Based,Turn-Based Tactics,S...</td>\n",
       "      <td>Single-player,Multi-player,Online Multi-Player...</td>\n",
       "      <td>English,French,German,Russian</td>\n",
       "      <td>128.0</td>\n",
       "      <td>Action,Adventure,Strategy</td>\n",
       "      <td>About This Game  From original BATTLETECH/Mec...</td>\n",
       "      <td>None</td>\n",
       "      <td>Minimum:,Requires a 64-bit processor and opera...</td>\n",
       "      <td>Recommended:,Requires a 64-bit processor and o...</td>\n",
       "      <td>$39.99</td>\n",
       "      <td>None</td>\n",
       "    </tr>\n",
       "    <tr>\n",
       "      <th>3</th>\n",
       "      <td>https://store.steampowered.com/app/221100/DayZ/</td>\n",
       "      <td>app</td>\n",
       "      <td>DayZ</td>\n",
       "      <td>The post-soviet country of Chernarus is struck...</td>\n",
       "      <td>Mixed,(932),- 57% of the 932 user reviews in t...</td>\n",
       "      <td>Mixed,(167,115),- 61% of the 167,115 user revi...</td>\n",
       "      <td>Dec 13, 2018</td>\n",
       "      <td>Bohemia Interactive</td>\n",
       "      <td>Bohemia Interactive,Bohemia Interactive</td>\n",
       "      <td>Survival,Zombies,Open World,Multiplayer,PvP,Ma...</td>\n",
       "      <td>Multi-player,Online Multi-Player,Steam Worksho...</td>\n",
       "      <td>English,French,Italian,German,Spanish - Spain,...</td>\n",
       "      <td>NaN</td>\n",
       "      <td>Action,Adventure,Massively Multiplayer</td>\n",
       "      <td>About This Game The post-soviet country of Ch...</td>\n",
       "      <td>None</td>\n",
       "      <td>Minimum:,OS:,Windows 7/8.1 64-bit,Processor:,I...</td>\n",
       "      <td>Recommended:,OS:,Windows 10 64-bit,Processor:,...</td>\n",
       "      <td>$44.99</td>\n",
       "      <td>None</td>\n",
       "    </tr>\n",
       "    <tr>\n",
       "      <th>4</th>\n",
       "      <td>https://store.steampowered.com/app/8500/EVE_On...</td>\n",
       "      <td>app</td>\n",
       "      <td>EVE Online</td>\n",
       "      <td>EVE Online is a community-driven spaceship MMO...</td>\n",
       "      <td>Mixed,(287),- 54% of the 287 user reviews in t...</td>\n",
       "      <td>Mostly Positive,(11,481),- 74% of the 11,481 u...</td>\n",
       "      <td>May 6, 2003</td>\n",
       "      <td>CCP</td>\n",
       "      <td>CCP,CCP</td>\n",
       "      <td>Space,Massively Multiplayer,Sci-fi,Sandbox,MMO...</td>\n",
       "      <td>Multi-player,Online Multi-Player,MMO,Co-op,Onl...</td>\n",
       "      <td>English,German,Russian,French</td>\n",
       "      <td>NaN</td>\n",
       "      <td>Action,Free to Play,Massively Multiplayer,RPG,...</td>\n",
       "      <td>About This Game</td>\n",
       "      <td>None</td>\n",
       "      <td>Minimum:,OS:,Windows 7,Processor:,Intel Dual C...</td>\n",
       "      <td>Recommended:,OS:,Windows 10,Processor:,Intel i...</td>\n",
       "      <td>Free</td>\n",
       "      <td>None</td>\n",
       "    </tr>\n",
       "    <tr>\n",
       "      <th>...</th>\n",
       "      <td>...</td>\n",
       "      <td>...</td>\n",
       "      <td>...</td>\n",
       "      <td>...</td>\n",
       "      <td>...</td>\n",
       "      <td>...</td>\n",
       "      <td>...</td>\n",
       "      <td>...</td>\n",
       "      <td>...</td>\n",
       "      <td>...</td>\n",
       "      <td>...</td>\n",
       "      <td>...</td>\n",
       "      <td>...</td>\n",
       "      <td>...</td>\n",
       "      <td>...</td>\n",
       "      <td>...</td>\n",
       "      <td>...</td>\n",
       "      <td>...</td>\n",
       "      <td>...</td>\n",
       "      <td>...</td>\n",
       "    </tr>\n",
       "    <tr>\n",
       "      <th>40828</th>\n",
       "      <td>https://store.steampowered.com/app/899836/Rock...</td>\n",
       "      <td>app</td>\n",
       "      <td>Rocksmith® 2014 Edition – Remastered – Sabaton...</td>\n",
       "      <td>None</td>\n",
       "      <td>None</td>\n",
       "      <td>None</td>\n",
       "      <td>Feb 12, 2019</td>\n",
       "      <td>Ubisoft - San Francisco</td>\n",
       "      <td>None</td>\n",
       "      <td>Casual,Simulation</td>\n",
       "      <td>Single-player,Shared/Split Screen,Downloadable...</td>\n",
       "      <td>English,German,French,Italian,Spanish - Spain,...</td>\n",
       "      <td>NaN</td>\n",
       "      <td>Casual,Simulation</td>\n",
       "      <td>About This Content Play \"Ghost Division\" by S...</td>\n",
       "      <td>None</td>\n",
       "      <td>Minimum:,OS:,Windows Vista, Windows 7, Windows...</td>\n",
       "      <td>Recommended:,OS:,Windows Vista, Windows 7, Win...</td>\n",
       "      <td>$2.99</td>\n",
       "      <td>None</td>\n",
       "    </tr>\n",
       "    <tr>\n",
       "      <th>40829</th>\n",
       "      <td>https://store.steampowered.com/app/899832/Rock...</td>\n",
       "      <td>app</td>\n",
       "      <td>Rocksmith® 2014 Edition – Remastered – Stone T...</td>\n",
       "      <td>None</td>\n",
       "      <td>None</td>\n",
       "      <td>None</td>\n",
       "      <td>Feb 5, 2019</td>\n",
       "      <td>Ubisoft - San Francisco</td>\n",
       "      <td>None</td>\n",
       "      <td>Casual,Simulation</td>\n",
       "      <td>Single-player,Shared/Split Screen,Downloadable...</td>\n",
       "      <td>English,German,French,Italian,Spanish - Spain,...</td>\n",
       "      <td>NaN</td>\n",
       "      <td>Casual,Simulation</td>\n",
       "      <td>About This Content Play \"Trippin’ on a Hole i...</td>\n",
       "      <td>None</td>\n",
       "      <td>Minimum:,OS:,Windows Vista, Windows 7, Windows...</td>\n",
       "      <td>Recommended:,OS:,Windows Vista, Windows 7, Win...</td>\n",
       "      <td>$2.99</td>\n",
       "      <td>None</td>\n",
       "    </tr>\n",
       "    <tr>\n",
       "      <th>40830</th>\n",
       "      <td>https://store.steampowered.com/app/906840/Fant...</td>\n",
       "      <td>app</td>\n",
       "      <td>Fantasy Grounds - Quests of Doom 4: A Midnight...</td>\n",
       "      <td>None</td>\n",
       "      <td>None</td>\n",
       "      <td>None</td>\n",
       "      <td>Jul 31, 2018</td>\n",
       "      <td>SmiteWorks USA, LLC</td>\n",
       "      <td>None</td>\n",
       "      <td>RPG,Indie,Strategy,Software,Turn-Based,Fantasy...</td>\n",
       "      <td>Multi-player,Co-op,Cross-Platform Multiplayer,...</td>\n",
       "      <td>English</td>\n",
       "      <td>NaN</td>\n",
       "      <td>Indie,RPG,Strategy</td>\n",
       "      <td>About This Content  Quests of Doom 4: A Midni...</td>\n",
       "      <td>None</td>\n",
       "      <td>Minimum:,OS:,Windows 7x , 8x or 10x,Processor:...</td>\n",
       "      <td>Recommended:,OS:,Windows 7x , 8x or 10x,Proces...</td>\n",
       "      <td>$7.99</td>\n",
       "      <td>None</td>\n",
       "    </tr>\n",
       "    <tr>\n",
       "      <th>40831</th>\n",
       "      <td>https://store.steampowered.com/app/906635/Mega...</td>\n",
       "      <td>app</td>\n",
       "      <td>Mega Man X5 Sound Collection</td>\n",
       "      <td>None</td>\n",
       "      <td>None</td>\n",
       "      <td>None</td>\n",
       "      <td>Jul 24, 2018</td>\n",
       "      <td>CAPCOM CO., LTD</td>\n",
       "      <td>CAPCOM CO., LTD,CAPCOM CO., LTD</td>\n",
       "      <td>Action</td>\n",
       "      <td>Single-player,Downloadable Content,Steam Achie...</td>\n",
       "      <td>English,French,Italian,German,Spanish - Spain,...</td>\n",
       "      <td>NaN</td>\n",
       "      <td>Action</td>\n",
       "      <td>About This Content Get equipped with the stun...</td>\n",
       "      <td>None</td>\n",
       "      <td>Minimum:,OS:,WINDOWS® 7 (64bit),Processor:,Int...</td>\n",
       "      <td>Recommended:,OS:,WINDOWS®10 (64bit),Processor:...</td>\n",
       "      <td>$9.99</td>\n",
       "      <td>None</td>\n",
       "    </tr>\n",
       "    <tr>\n",
       "      <th>40832</th>\n",
       "      <td>https://store.steampowered.com/app/908000/Stor...</td>\n",
       "      <td>app</td>\n",
       "      <td>Stories In Stone</td>\n",
       "      <td>An RPG about a tribe exploring an ancient worl...</td>\n",
       "      <td>None</td>\n",
       "      <td>None</td>\n",
       "      <td>Aug 8, 2018</td>\n",
       "      <td>16 Bit Psych,Kyle B</td>\n",
       "      <td>Self-Publish,Self-Publish</td>\n",
       "      <td>RPG,Adventure</td>\n",
       "      <td>Single-player,Partial Controller Support,Profi...</td>\n",
       "      <td>English</td>\n",
       "      <td>NaN</td>\n",
       "      <td>Adventure,RPG</td>\n",
       "      <td>About This Game  An RPG about a tribe explori...</td>\n",
       "      <td>None</td>\n",
       "      <td>None</td>\n",
       "      <td>None</td>\n",
       "      <td>$4.99</td>\n",
       "      <td>$2.80</td>\n",
       "    </tr>\n",
       "  </tbody>\n",
       "</table>\n",
       "<p>40833 rows × 20 columns</p>\n",
       "</div>"
      ],
      "text/plain": [
       "                                                     url types  \\\n",
       "0        https://store.steampowered.com/app/379720/DOOM/   app   \n",
       "1      https://store.steampowered.com/app/578080/PLAY...   app   \n",
       "2      https://store.steampowered.com/app/637090/BATT...   app   \n",
       "3        https://store.steampowered.com/app/221100/DayZ/   app   \n",
       "4      https://store.steampowered.com/app/8500/EVE_On...   app   \n",
       "...                                                  ...   ...   \n",
       "40828  https://store.steampowered.com/app/899836/Rock...   app   \n",
       "40829  https://store.steampowered.com/app/899832/Rock...   app   \n",
       "40830  https://store.steampowered.com/app/906840/Fant...   app   \n",
       "40831  https://store.steampowered.com/app/906635/Mega...   app   \n",
       "40832  https://store.steampowered.com/app/908000/Stor...   app   \n",
       "\n",
       "                                                    name  \\\n",
       "0                                                   DOOM   \n",
       "1                          PLAYERUNKNOWN'S BATTLEGROUNDS   \n",
       "2                                             BATTLETECH   \n",
       "3                                                   DayZ   \n",
       "4                                             EVE Online   \n",
       "...                                                  ...   \n",
       "40828  Rocksmith® 2014 Edition – Remastered – Sabaton...   \n",
       "40829  Rocksmith® 2014 Edition – Remastered – Stone T...   \n",
       "40830  Fantasy Grounds - Quests of Doom 4: A Midnight...   \n",
       "40831                       Mega Man X5 Sound Collection   \n",
       "40832                                   Stories In Stone   \n",
       "\n",
       "                                            desc_snippet  \\\n",
       "0      Now includes all three premium DLC packs (Unto...   \n",
       "1      PLAYERUNKNOWN'S BATTLEGROUNDS is a battle roya...   \n",
       "2      Take command of your own mercenary outfit of '...   \n",
       "3      The post-soviet country of Chernarus is struck...   \n",
       "4      EVE Online is a community-driven spaceship MMO...   \n",
       "...                                                  ...   \n",
       "40828                                               None   \n",
       "40829                                               None   \n",
       "40830                                               None   \n",
       "40831                                               None   \n",
       "40832  An RPG about a tribe exploring an ancient worl...   \n",
       "\n",
       "                                          recent_reviews  \\\n",
       "0      Very Positive,(554),- 89% of the 554 user revi...   \n",
       "1      Mixed,(6,214),- 49% of the 6,214 user reviews ...   \n",
       "2      Mixed,(166),- 54% of the 166 user reviews in t...   \n",
       "3      Mixed,(932),- 57% of the 932 user reviews in t...   \n",
       "4      Mixed,(287),- 54% of the 287 user reviews in t...   \n",
       "...                                                  ...   \n",
       "40828                                               None   \n",
       "40829                                               None   \n",
       "40830                                               None   \n",
       "40831                                               None   \n",
       "40832                                               None   \n",
       "\n",
       "                                             all_reviews  release_date  \\\n",
       "0      Very Positive,(42,550),- 92% of the 42,550 use...  May 12, 2016   \n",
       "1      Mixed,(836,608),- 49% of the 836,608 user revi...  Dec 21, 2017   \n",
       "2      Mostly Positive,(7,030),- 71% of the 7,030 use...  Apr 24, 2018   \n",
       "3      Mixed,(167,115),- 61% of the 167,115 user revi...  Dec 13, 2018   \n",
       "4      Mostly Positive,(11,481),- 74% of the 11,481 u...   May 6, 2003   \n",
       "...                                                  ...           ...   \n",
       "40828                                               None  Feb 12, 2019   \n",
       "40829                                               None   Feb 5, 2019   \n",
       "40830                                               None  Jul 31, 2018   \n",
       "40831                                               None  Jul 24, 2018   \n",
       "40832                                               None   Aug 8, 2018   \n",
       "\n",
       "                     developer                                publisher  \\\n",
       "0                  id Software    Bethesda Softworks,Bethesda Softworks   \n",
       "1             PUBG Corporation        PUBG Corporation,PUBG Corporation   \n",
       "2          Harebrained Schemes  Paradox Interactive,Paradox Interactive   \n",
       "3          Bohemia Interactive  Bohemia Interactive,Bohemia Interactive   \n",
       "4                          CCP                                  CCP,CCP   \n",
       "...                        ...                                      ...   \n",
       "40828  Ubisoft - San Francisco                                     None   \n",
       "40829  Ubisoft - San Francisco                                     None   \n",
       "40830      SmiteWorks USA, LLC                                     None   \n",
       "40831          CAPCOM CO., LTD          CAPCOM CO., LTD,CAPCOM CO., LTD   \n",
       "40832      16 Bit Psych,Kyle B                Self-Publish,Self-Publish   \n",
       "\n",
       "                                            popular_tags  \\\n",
       "0      FPS,Gore,Action,Demons,Shooter,First-Person,Gr...   \n",
       "1      Survival,Shooter,Multiplayer,Battle Royale,PvP...   \n",
       "2      Mechs,Strategy,Turn-Based,Turn-Based Tactics,S...   \n",
       "3      Survival,Zombies,Open World,Multiplayer,PvP,Ma...   \n",
       "4      Space,Massively Multiplayer,Sci-fi,Sandbox,MMO...   \n",
       "...                                                  ...   \n",
       "40828                                  Casual,Simulation   \n",
       "40829                                  Casual,Simulation   \n",
       "40830  RPG,Indie,Strategy,Software,Turn-Based,Fantasy...   \n",
       "40831                                             Action   \n",
       "40832                                      RPG,Adventure   \n",
       "\n",
       "                                            game_details  \\\n",
       "0      Single-player,Multi-player,Co-op,Steam Achieve...   \n",
       "1                 Multi-player,Online Multi-Player,Stats   \n",
       "2      Single-player,Multi-player,Online Multi-Player...   \n",
       "3      Multi-player,Online Multi-Player,Steam Worksho...   \n",
       "4      Multi-player,Online Multi-Player,MMO,Co-op,Onl...   \n",
       "...                                                  ...   \n",
       "40828  Single-player,Shared/Split Screen,Downloadable...   \n",
       "40829  Single-player,Shared/Split Screen,Downloadable...   \n",
       "40830  Multi-player,Co-op,Cross-Platform Multiplayer,...   \n",
       "40831  Single-player,Downloadable Content,Steam Achie...   \n",
       "40832  Single-player,Partial Controller Support,Profi...   \n",
       "\n",
       "                                               languages  achievements  \\\n",
       "0      English,French,Italian,German,Spanish - Spain,...          54.0   \n",
       "1      English,Korean,Simplified Chinese,French,Germa...          37.0   \n",
       "2                          English,French,German,Russian         128.0   \n",
       "3      English,French,Italian,German,Spanish - Spain,...           NaN   \n",
       "4                          English,German,Russian,French           NaN   \n",
       "...                                                  ...           ...   \n",
       "40828  English,German,French,Italian,Spanish - Spain,...           NaN   \n",
       "40829  English,German,French,Italian,Spanish - Spain,...           NaN   \n",
       "40830                                            English           NaN   \n",
       "40831  English,French,Italian,German,Spanish - Spain,...           NaN   \n",
       "40832                                            English           NaN   \n",
       "\n",
       "                                                   genre  \\\n",
       "0                                                 Action   \n",
       "1                 Action,Adventure,Massively Multiplayer   \n",
       "2                              Action,Adventure,Strategy   \n",
       "3                 Action,Adventure,Massively Multiplayer   \n",
       "4      Action,Free to Play,Massively Multiplayer,RPG,...   \n",
       "...                                                  ...   \n",
       "40828                                  Casual,Simulation   \n",
       "40829                                  Casual,Simulation   \n",
       "40830                                 Indie,RPG,Strategy   \n",
       "40831                                             Action   \n",
       "40832                                      Adventure,RPG   \n",
       "\n",
       "                                        game_description  \\\n",
       "0       About This Game Developed by id software, the...   \n",
       "1       About This Game  PLAYERUNKNOWN'S BATTLEGROUND...   \n",
       "2       About This Game  From original BATTLETECH/Mec...   \n",
       "3       About This Game The post-soviet country of Ch...   \n",
       "4                                      About This Game     \n",
       "...                                                  ...   \n",
       "40828   About This Content Play \"Ghost Division\" by S...   \n",
       "40829   About This Content Play \"Trippin’ on a Hole i...   \n",
       "40830   About This Content  Quests of Doom 4: A Midni...   \n",
       "40831   About This Content Get equipped with the stun...   \n",
       "40832   About This Game  An RPG about a tribe explori...   \n",
       "\n",
       "                                          mature_content  \\\n",
       "0                                                   None   \n",
       "1       Mature Content Description  The developers de...   \n",
       "2                                                   None   \n",
       "3                                                   None   \n",
       "4                                                   None   \n",
       "...                                                  ...   \n",
       "40828                                               None   \n",
       "40829                                               None   \n",
       "40830                                               None   \n",
       "40831                                               None   \n",
       "40832                                               None   \n",
       "\n",
       "                                    minimum_requirements  \\\n",
       "0      Minimum:,OS:,Windows 7/8.1/10 (64-bit versions...   \n",
       "1      Minimum:,Requires a 64-bit processor and opera...   \n",
       "2      Minimum:,Requires a 64-bit processor and opera...   \n",
       "3      Minimum:,OS:,Windows 7/8.1 64-bit,Processor:,I...   \n",
       "4      Minimum:,OS:,Windows 7,Processor:,Intel Dual C...   \n",
       "...                                                  ...   \n",
       "40828  Minimum:,OS:,Windows Vista, Windows 7, Windows...   \n",
       "40829  Minimum:,OS:,Windows Vista, Windows 7, Windows...   \n",
       "40830  Minimum:,OS:,Windows 7x , 8x or 10x,Processor:...   \n",
       "40831  Minimum:,OS:,WINDOWS® 7 (64bit),Processor:,Int...   \n",
       "40832                                               None   \n",
       "\n",
       "                                recommended_requirements original_price  \\\n",
       "0      Recommended:,OS:,Windows 7/8.1/10 (64-bit vers...         $19.99   \n",
       "1      Recommended:,Requires a 64-bit processor and o...         $29.99   \n",
       "2      Recommended:,Requires a 64-bit processor and o...         $39.99   \n",
       "3      Recommended:,OS:,Windows 10 64-bit,Processor:,...         $44.99   \n",
       "4      Recommended:,OS:,Windows 10,Processor:,Intel i...           Free   \n",
       "...                                                  ...            ...   \n",
       "40828  Recommended:,OS:,Windows Vista, Windows 7, Win...          $2.99   \n",
       "40829  Recommended:,OS:,Windows Vista, Windows 7, Win...          $2.99   \n",
       "40830  Recommended:,OS:,Windows 7x , 8x or 10x,Proces...          $7.99   \n",
       "40831  Recommended:,OS:,WINDOWS®10 (64bit),Processor:...          $9.99   \n",
       "40832                                               None          $4.99   \n",
       "\n",
       "      discount_price  \n",
       "0             $14.99  \n",
       "1               None  \n",
       "2               None  \n",
       "3               None  \n",
       "4               None  \n",
       "...              ...  \n",
       "40828           None  \n",
       "40829           None  \n",
       "40830           None  \n",
       "40831           None  \n",
       "40832          $2.80  \n",
       "\n",
       "[40833 rows x 20 columns]"
      ]
     },
     "execution_count": 12,
     "metadata": {},
     "output_type": "execute_result"
    }
   ],
   "source": [
    "df"
   ]
  },
  {
   "cell_type": "code",
   "execution_count": 13,
   "metadata": {},
   "outputs": [
    {
     "data": {
      "application/vnd.jupyter.widget-view+json": {
       "model_id": "947cc7d66f8540e2827afd0256dd582c",
       "version_major": 2,
       "version_minor": 0
      },
      "text/plain": [
       "modules.json:   0%|          | 0.00/229 [00:00<?, ?B/s]"
      ]
     },
     "metadata": {},
     "output_type": "display_data"
    },
    {
     "name": "stderr",
     "output_type": "stream",
     "text": [
      "c:\\Users\\USER\\anaconda3\\envs\\hi\\lib\\site-packages\\huggingface_hub\\file_download.py:140: UserWarning: `huggingface_hub` cache-system uses symlinks by default to efficiently store duplicated files but your machine does not support them in C:\\Users\\USER\\.cache\\huggingface\\hub\\models--sentence-transformers--distilbert-base-nli-mean-tokens. Caching files will still work but in a degraded version that might require more space on your disk. This warning can be disabled by setting the `HF_HUB_DISABLE_SYMLINKS_WARNING` environment variable. For more details, see https://huggingface.co/docs/huggingface_hub/how-to-cache#limitations.\n",
      "To support symlinks on Windows, you either need to activate Developer Mode or to run Python as an administrator. In order to activate developer mode, see this article: https://docs.microsoft.com/en-us/windows/apps/get-started/enable-your-device-for-development\n",
      "  warnings.warn(message)\n"
     ]
    },
    {
     "data": {
      "application/vnd.jupyter.widget-view+json": {
       "model_id": "90f76529e43f44b88780f6920f4a28bb",
       "version_major": 2,
       "version_minor": 0
      },
      "text/plain": [
       "config_sentence_transformers.json:   0%|          | 0.00/122 [00:00<?, ?B/s]"
      ]
     },
     "metadata": {},
     "output_type": "display_data"
    },
    {
     "data": {
      "application/vnd.jupyter.widget-view+json": {
       "model_id": "acb26ea9b9bd484cb0492ffe6c5a0799",
       "version_major": 2,
       "version_minor": 0
      },
      "text/plain": [
       "README.md:   0%|          | 0.00/4.02k [00:00<?, ?B/s]"
      ]
     },
     "metadata": {},
     "output_type": "display_data"
    },
    {
     "data": {
      "application/vnd.jupyter.widget-view+json": {
       "model_id": "4981e8cf9f3446628d029697065bf848",
       "version_major": 2,
       "version_minor": 0
      },
      "text/plain": [
       "sentence_bert_config.json:   0%|          | 0.00/53.0 [00:00<?, ?B/s]"
      ]
     },
     "metadata": {},
     "output_type": "display_data"
    },
    {
     "data": {
      "application/vnd.jupyter.widget-view+json": {
       "model_id": "40316e456ee44cc4b619d6c44b9c2918",
       "version_major": 2,
       "version_minor": 0
      },
      "text/plain": [
       "config.json:   0%|          | 0.00/550 [00:00<?, ?B/s]"
      ]
     },
     "metadata": {},
     "output_type": "display_data"
    },
    {
     "data": {
      "application/vnd.jupyter.widget-view+json": {
       "model_id": "d45fa042d57c4c80a6103e3d983a9e55",
       "version_major": 2,
       "version_minor": 0
      },
      "text/plain": [
       "model.safetensors:   0%|          | 0.00/265M [00:00<?, ?B/s]"
      ]
     },
     "metadata": {},
     "output_type": "display_data"
    },
    {
     "data": {
      "application/vnd.jupyter.widget-view+json": {
       "model_id": "d656e756b48f4eb7a0eac0a4574dab79",
       "version_major": 2,
       "version_minor": 0
      },
      "text/plain": [
       "tokenizer_config.json:   0%|          | 0.00/450 [00:00<?, ?B/s]"
      ]
     },
     "metadata": {},
     "output_type": "display_data"
    },
    {
     "data": {
      "application/vnd.jupyter.widget-view+json": {
       "model_id": "5b4ff8b75eac49ae8faf3fbc1ea42251",
       "version_major": 2,
       "version_minor": 0
      },
      "text/plain": [
       "vocab.txt:   0%|          | 0.00/232k [00:00<?, ?B/s]"
      ]
     },
     "metadata": {},
     "output_type": "display_data"
    },
    {
     "data": {
      "application/vnd.jupyter.widget-view+json": {
       "model_id": "54f747ed720b4dc2bc862a21ee58081a",
       "version_major": 2,
       "version_minor": 0
      },
      "text/plain": [
       "tokenizer.json:   0%|          | 0.00/466k [00:00<?, ?B/s]"
      ]
     },
     "metadata": {},
     "output_type": "display_data"
    },
    {
     "data": {
      "application/vnd.jupyter.widget-view+json": {
       "model_id": "5b3f275fdc464d87a529694306e91c7c",
       "version_major": 2,
       "version_minor": 0
      },
      "text/plain": [
       "special_tokens_map.json:   0%|          | 0.00/112 [00:00<?, ?B/s]"
      ]
     },
     "metadata": {},
     "output_type": "display_data"
    },
    {
     "data": {
      "application/vnd.jupyter.widget-view+json": {
       "model_id": "08db3aafb3a041d9a10d2f8d7e0ca89b",
       "version_major": 2,
       "version_minor": 0
      },
      "text/plain": [
       "1_Pooling%2Fconfig.json:   0%|          | 0.00/190 [00:00<?, ?B/s]"
      ]
     },
     "metadata": {},
     "output_type": "display_data"
    }
   ],
   "source": [
    "model = SentenceTransformer('distilbert-base-nli-mean-tokens')"
   ]
  },
  {
   "cell_type": "code",
   "execution_count": 15,
   "metadata": {},
   "outputs": [
    {
     "data": {
      "text/plain": [
       "Index(['url', 'types', 'name', 'desc_snippet', 'recent_reviews', 'all_reviews',\n",
       "       'release_date', 'developer', 'publisher', 'popular_tags',\n",
       "       'game_details', 'languages', 'achievements', 'genre',\n",
       "       'game_description', 'mature_content', 'minimum_requirements',\n",
       "       'recommended_requirements', 'original_price', 'discount_price'],\n",
       "      dtype='object')"
      ]
     },
     "execution_count": 15,
     "metadata": {},
     "output_type": "execute_result"
    }
   ],
   "source": [
    "df.columns"
   ]
  },
  {
   "cell_type": "code",
   "execution_count": 16,
   "metadata": {},
   "outputs": [],
   "source": [
    "import re"
   ]
  },
  {
   "cell_type": "code",
   "execution_count": 17,
   "metadata": {},
   "outputs": [],
   "source": [
    "def clean_text(text):\n",
    "    if isinstance(text, str):\n",
    "        return re.sub(r'[^\\w\\s]', '', text.lower())\n",
    "    return ''"
   ]
  },
  {
   "cell_type": "code",
   "execution_count": 18,
   "metadata": {},
   "outputs": [],
   "source": [
    "df['combined_features'] = (\n",
    "    df['name'].fillna('') + ' ' +\n",
    "    df['desc_snippet'].fillna('') + ' ' +\n",
    "    df['game_description'].fillna('') + ' ' +\n",
    "    df['popular_tags'].fillna('') + ' ' +\n",
    "    df['genre'].fillna('') + ' ' +\n",
    "    df['developer'].fillna('') + ' ' +\n",
    "    df['publisher'].fillna('')\n",
    ")"
   ]
  },
  {
   "cell_type": "code",
   "execution_count": 19,
   "metadata": {},
   "outputs": [],
   "source": [
    "df['combined_features'] = df['combined_features'].apply(clean_text)"
   ]
  },
  {
   "cell_type": "code",
   "execution_count": 20,
   "metadata": {},
   "outputs": [
    {
     "data": {
      "application/vnd.jupyter.widget-view+json": {
       "model_id": "7ec1940470674f2d9789923e6bf895ac",
       "version_major": 2,
       "version_minor": 0
      },
      "text/plain": [
       "Batches:   0%|          | 0/1277 [00:00<?, ?it/s]"
      ]
     },
     "metadata": {},
     "output_type": "display_data"
    }
   ],
   "source": [
    "embeddings = model.encode(df['combined_features'].tolist(), show_progress_bar=True)"
   ]
  },
  {
   "cell_type": "code",
   "execution_count": 21,
   "metadata": {},
   "outputs": [],
   "source": [
    "cosine_sim = cosine_similarity(embeddings)"
   ]
  },
  {
   "cell_type": "code",
   "execution_count": 24,
   "metadata": {},
   "outputs": [
    {
     "name": "stdout",
     "output_type": "stream",
     "text": [
      "['DOOM' \"PLAYERUNKNOWN'S BATTLEGROUNDS\" 'BATTLETECH' ...\n",
      " 'Fantasy Grounds - Quests of Doom 4: A Midnight Council of Quail (5E)'\n",
      " 'Mega Man X5 Sound Collection' 'Stories In Stone']\n"
     ]
    }
   ],
   "source": [
    "print(df['name'].unique())"
   ]
  },
  {
   "cell_type": "code",
   "execution_count": 22,
   "metadata": {},
   "outputs": [],
   "source": [
    "# 추천 함수 정의\n",
    "def get_recommendations(title, cosine_sim=cosine_sim, df=df):\n",
    "    idx = df[df['name'] == title].index[0]\n",
    "    sim_scores = list(enumerate(cosine_sim[idx]))\n",
    "    sim_scores = sorted(sim_scores, key=lambda x: x[1], reverse=True)\n",
    "    sim_scores = sim_scores[1:11]  # 상위 10개 추천\n",
    "    game_indices = [i[0] for i in sim_scores]\n",
    "    recommendations = df.iloc[game_indices][['name', 'genre', 'developer', 'original_price']]\n",
    "    return recommendations"
   ]
  },
  {
   "cell_type": "code",
   "execution_count": 25,
   "metadata": {},
   "outputs": [
    {
     "name": "stdout",
     "output_type": "stream",
     "text": [
      "                                                    name               genre  \\\n",
      "39198        Fantasy Grounds - Don't Wake Dretchlor (5E)  Indie,RPG,Strategy   \n",
      "38643  Fantasy Grounds - Mini-Dungeon #004: Summoner'...  Indie,RPG,Strategy   \n",
      "36068    Fantasy Grounds - B11: Fall of House Rodow (5E)  Indie,RPG,Strategy   \n",
      "36605  Fantasy Grounds - Dungeons & Dragons - Lair As...  Indie,RPG,Strategy   \n",
      "38346  Fantasy Grounds - Mini-Dungeon #004: Summoner'...  Indie,RPG,Strategy   \n",
      "40814  Fantasy Grounds - A17: Haunting at Rybalka Lod...  Indie,RPG,Strategy   \n",
      "17751  Shadow Wolf Mysteries: Curse of the Full Moon ...    Adventure,Casual   \n",
      "35594   Fantasy Grounds - B02: Happiness in Slavery (5E)  Indie,RPG,Strategy   \n",
      "35715                Fantasy Grounds - 5E: Book of Lairs  Indie,RPG,Strategy   \n",
      "12997  Loren The Amazon Princess - The Castle Of N'Ma...           Indie,RPG   \n",
      "\n",
      "                 developer original_price  \n",
      "39198  SmiteWorks USA, LLC          $3.99  \n",
      "38643  SmiteWorks USA, LLC          $2.99  \n",
      "36068  SmiteWorks USA, LLC          $6.99  \n",
      "36605  SmiteWorks USA, LLC          $9.99  \n",
      "38346  SmiteWorks USA, LLC          $2.99  \n",
      "40814  SmiteWorks USA, LLC          $6.99  \n",
      "17751        ERS G studios          $9.99  \n",
      "35594  SmiteWorks USA, LLC          $6.99  \n",
      "35715  SmiteWorks USA, LLC         $29.99  \n",
      "12997        Winter Wolves        $147.88  \n"
     ]
    }
   ],
   "source": [
    "print(get_recommendations('Fantasy Grounds - Quests of Doom 4: A Midnight Council of Quail (5E)'))"
   ]
  },
  {
   "cell_type": "code",
   "execution_count": null,
   "metadata": {},
   "outputs": [],
   "source": [
    "import joblib\n",
    "import numpy as np\n",
    "\n",
    "def save_model(embeddings, cosine_sim, game_names, filename='content_based_model.pkl'):\n",
    "    model_data = {\n",
    "        'embeddings': embeddings,\n",
    "        'cosine_sim': cosine_sim,\n",
    "        'game_names': game_names\n",
    "    }\n",
    "    joblib.dump(model_data, filename)\n",
    "    print(f\"Model saved to {filename}\")\n",
    "\n",
    "def load_model(filename='content_based_model.joblib'):\n",
    "    model_data = joblib.load(filename)\n",
    "    print(f\"Model loaded from {filename}\")\n",
    "    return model_data['embeddings'], model_data['cosine_sim'], model_data['game_names']\n"
   ]
  },
  {
   "cell_type": "code",
   "execution_count": 28,
   "metadata": {},
   "outputs": [
    {
     "name": "stdout",
     "output_type": "stream",
     "text": [
      "Model saved to content_based_model.joblib\n"
     ]
    }
   ],
   "source": [
    "game_names = df['name'].values\n",
    "save_model(embeddings, cosine_sim, game_names)"
   ]
  },
  {
   "cell_type": "code",
   "execution_count": 60,
   "metadata": {},
   "outputs": [],
   "source": [
    "from sklearn.model_selection import train_test_split\n",
    "from surprise import SVD, Dataset, Reader\n",
    "from surprise.model_selection import cross_validate"
   ]
  },
  {
   "cell_type": "code",
   "execution_count": 61,
   "metadata": {},
   "outputs": [],
   "source": [
    "def extract_review_score(review_text):\n",
    "    if pd.isna(review_text):\n",
    "        return np.nan\n",
    "    match = re.search(r'(\\d+)%', review_text)\n",
    "    return int(match.group(1)) / 20 if match else np.nan"
   ]
  },
  {
   "cell_type": "code",
   "execution_count": 62,
   "metadata": {},
   "outputs": [],
   "source": [
    "df['recent_score'] = df['recent_reviews'].apply(extract_review_score)\n",
    "df['all_score'] = df['all_reviews'].apply(extract_review_score)"
   ]
  },
  {
   "cell_type": "code",
   "execution_count": 63,
   "metadata": {},
   "outputs": [],
   "source": [
    "df['score'] = df['all_score'].fillna(df['recent_score'])"
   ]
  },
  {
   "cell_type": "code",
   "execution_count": 64,
   "metadata": {},
   "outputs": [],
   "source": [
    "df_valid = df.dropna(subset=['score'])"
   ]
  },
  {
   "cell_type": "code",
   "execution_count": 65,
   "metadata": {},
   "outputs": [],
   "source": [
    "np.random.seed(42)\n",
    "n_users = 1000\n",
    "user_game_ratings = []"
   ]
  },
  {
   "cell_type": "code",
   "execution_count": 66,
   "metadata": {},
   "outputs": [],
   "source": [
    "for user_id in range(n_users):\n",
    "    n_ratings = np.random.randint(5, 50)\n",
    "    games = df_valid.sample(n_ratings)\n",
    "    for _, game in games.iterrows():\n",
    "        rating = np.clip(np.random.normal(game['score'], 0.5), 1, 5)\n",
    "        user_game_ratings.append((user_id, game['name'], rating))"
   ]
  },
  {
   "cell_type": "code",
   "execution_count": null,
   "metadata": {},
   "outputs": [],
   "source": [
    "ratings_df = pd.DataFrame(user_game_ratings, columns=['user_id', 'game_name', 'rating'])"
   ]
  },
  {
   "cell_type": "code",
   "execution_count": null,
   "metadata": {},
   "outputs": [],
   "source": [
    "reader = Reader(rating_scale=(1, 5))"
   ]
  },
  {
   "cell_type": "code",
   "execution_count": null,
   "metadata": {},
   "outputs": [],
   "source": [
    "data = Dataset.load_from_df(ratings_df[['user_id', 'game_name', 'rating']], reader)"
   ]
  },
  {
   "cell_type": "code",
   "execution_count": null,
   "metadata": {},
   "outputs": [],
   "source": [
    "svd = SVD()\n",
    "\n",
    "# 교차 검증 수행\n",
    "cross_validate(svd, data, measures=['RMSE', 'MAE'], cv=5, verbose=True)"
   ]
  },
  {
   "cell_type": "code",
   "execution_count": null,
   "metadata": {},
   "outputs": [],
   "source": [
    "trainset = data.build_full_trainset()"
   ]
  },
  {
   "cell_type": "code",
   "execution_count": null,
   "metadata": {},
   "outputs": [],
   "source": [
    "svd.fit(trainset)"
   ]
  },
  {
   "cell_type": "code",
   "execution_count": null,
   "metadata": {},
   "outputs": [],
   "source": [
    "def get_recommendations(user_id, n=10):\n",
    "    # 사용자가 아직 평가하지 않은 모든 게임 가져오기\n",
    "    user_games = ratings_df[ratings_df['user_id'] == user_id]['game_name']\n",
    "    new_games = df_valid[~df_valid['name'].isin(user_games)]['name']\n",
    "    \n",
    "    # 각 게임에 대한 예측 평점 계산\n",
    "    predictions = [svd.predict(user_id, game_name) for game_name in new_games]\n",
    "    \n",
    "    # 예측 평점이 높은 순으로 정렬\n",
    "    top_predictions = sorted(predictions, key=lambda x: x.est, reverse=True)[:n]\n",
    "    \n",
    "    # 결과 반환\n",
    "    return [(pred.iid, pred.est) for pred in top_predictions]"
   ]
  },
  {
   "cell_type": "code",
   "execution_count": null,
   "metadata": {},
   "outputs": [],
   "source": [
    "def get_recommendations_with_info(user_id, n=10):\n",
    "    recommendations = get_recommendations(user_id, n)\n",
    "    result = []\n",
    "    for game_name, est_rating in recommendations:\n",
    "        game_info = df_valid[df_valid['name'] == game_name].iloc[0]\n",
    "        result.append({\n",
    "            'name': game_name,\n",
    "            'estimated_rating': est_rating,\n",
    "            'genre': game_info['genre'],\n",
    "            'developer': game_info['developer'],\n",
    "            'original_price': game_info['original_price']\n",
    "        })\n",
    "    return pd.DataFrame(result)"
   ]
  },
  {
   "cell_type": "code",
   "execution_count": 32,
   "metadata": {},
   "outputs": [],
   "source": [
    "from sklearn.metrics.pairwise import cosine_similarity\n",
    "from transformers import BertTokenizer, BertModel\n",
    "import torch\n",
    "import re"
   ]
  },
  {
   "cell_type": "code",
   "execution_count": 33,
   "metadata": {},
   "outputs": [],
   "source": [
    "def preprocess_text(text):\n",
    "    if pd.isna(text):\n",
    "        return ''\n",
    "    # HTML 태그 제거\n",
    "    text = re.sub('<[^<]+?>', '', text)\n",
    "    # 특수 문자 제거\n",
    "    text = re.sub('[^A-Za-z0-9]+', ' ', text)\n",
    "    # 소문자 변환\n",
    "    return text.lower().strip()"
   ]
  },
  {
   "cell_type": "code",
   "execution_count": 34,
   "metadata": {},
   "outputs": [],
   "source": [
    "df['combined_text'] = df['desc_snippet'] + ' ' + df['game_description'] + ' ' + df['recent_reviews'] + ' ' + df['all_reviews']\n",
    "df['combined_text'] = df['combined_text'].apply(preprocess_text)"
   ]
  },
  {
   "cell_type": "code",
   "execution_count": 35,
   "metadata": {},
   "outputs": [
    {
     "data": {
      "application/vnd.jupyter.widget-view+json": {
       "model_id": "c65b571d11b74037b99382785a5153ac",
       "version_major": 2,
       "version_minor": 0
      },
      "text/plain": [
       "tokenizer_config.json:   0%|          | 0.00/48.0 [00:00<?, ?B/s]"
      ]
     },
     "metadata": {},
     "output_type": "display_data"
    },
    {
     "name": "stderr",
     "output_type": "stream",
     "text": [
      "c:\\Users\\USER\\anaconda3\\envs\\hi\\lib\\site-packages\\huggingface_hub\\file_download.py:140: UserWarning: `huggingface_hub` cache-system uses symlinks by default to efficiently store duplicated files but your machine does not support them in C:\\Users\\USER\\.cache\\huggingface\\hub\\models--bert-base-uncased. Caching files will still work but in a degraded version that might require more space on your disk. This warning can be disabled by setting the `HF_HUB_DISABLE_SYMLINKS_WARNING` environment variable. For more details, see https://huggingface.co/docs/huggingface_hub/how-to-cache#limitations.\n",
      "To support symlinks on Windows, you either need to activate Developer Mode or to run Python as an administrator. In order to activate developer mode, see this article: https://docs.microsoft.com/en-us/windows/apps/get-started/enable-your-device-for-development\n",
      "  warnings.warn(message)\n"
     ]
    },
    {
     "data": {
      "application/vnd.jupyter.widget-view+json": {
       "model_id": "a6c921add3174c61ba2029798dd003e4",
       "version_major": 2,
       "version_minor": 0
      },
      "text/plain": [
       "vocab.txt:   0%|          | 0.00/232k [00:00<?, ?B/s]"
      ]
     },
     "metadata": {},
     "output_type": "display_data"
    },
    {
     "data": {
      "application/vnd.jupyter.widget-view+json": {
       "model_id": "258b1a8b7c2741da91c2f07e4f42a112",
       "version_major": 2,
       "version_minor": 0
      },
      "text/plain": [
       "tokenizer.json:   0%|          | 0.00/466k [00:00<?, ?B/s]"
      ]
     },
     "metadata": {},
     "output_type": "display_data"
    },
    {
     "data": {
      "application/vnd.jupyter.widget-view+json": {
       "model_id": "8bc03c7a4ec645af99d84c0fa9d6706f",
       "version_major": 2,
       "version_minor": 0
      },
      "text/plain": [
       "config.json:   0%|          | 0.00/570 [00:00<?, ?B/s]"
      ]
     },
     "metadata": {},
     "output_type": "display_data"
    },
    {
     "data": {
      "application/vnd.jupyter.widget-view+json": {
       "model_id": "082623d8ae35419b8d45a04a2cca5b55",
       "version_major": 2,
       "version_minor": 0
      },
      "text/plain": [
       "model.safetensors:   0%|          | 0.00/440M [00:00<?, ?B/s]"
      ]
     },
     "metadata": {},
     "output_type": "display_data"
    }
   ],
   "source": [
    "tokenizer = BertTokenizer.from_pretrained('bert-base-uncased')\n",
    "model = BertModel.from_pretrained('bert-base-uncased')"
   ]
  },
  {
   "cell_type": "code",
   "execution_count": 36,
   "metadata": {},
   "outputs": [],
   "source": [
    "device = torch.device('cuda' if torch.cuda.is_available() else 'cpu')"
   ]
  },
  {
   "cell_type": "code",
   "execution_count": 37,
   "metadata": {},
   "outputs": [],
   "source": [
    "model = model.to(device)"
   ]
  },
  {
   "cell_type": "code",
   "execution_count": 38,
   "metadata": {},
   "outputs": [],
   "source": [
    "def get_bert_embedding(text):\n",
    "    inputs = tokenizer(text, return_tensors='pt', truncation=True, max_length=512, padding=True)\n",
    "    inputs = {k: v.to(device) for k, v in inputs.items()}\n",
    "    \n",
    "    with torch.no_grad():\n",
    "        outputs = model(**inputs)\n",
    "    \n",
    "    return outputs.last_hidden_state.mean(dim=1).squeeze().cpu().numpy()"
   ]
  },
  {
   "cell_type": "code",
   "execution_count": 39,
   "metadata": {},
   "outputs": [],
   "source": [
    "sample_df = df.head(1000)"
   ]
  },
  {
   "cell_type": "code",
   "execution_count": 50,
   "metadata": {},
   "outputs": [
    {
     "name": "stdout",
     "output_type": "stream",
     "text": [
      "0    [-0.2603155, 0.0144146085, 0.37167567, -0.0136...\n",
      "1    [-0.35092056, -0.22462107, 0.47485545, -0.0074...\n",
      "2    [-0.19528927, 0.05570193, 0.34052795, 0.017262...\n",
      "3    [-0.35309604, 0.0077999067, 0.30086872, 0.0507...\n",
      "4    [-0.036087856, -0.08769429, 0.6195511, 0.11593...\n",
      "Name: bert_embedding, dtype: object\n"
     ]
    }
   ],
   "source": [
    "df['bert_embedding'] = df['combined_text'].apply(get_bert_embedding)\n",
    "\n",
    "print(df['bert_embedding'].head())"
   ]
  },
  {
   "cell_type": "code",
   "execution_count": 51,
   "metadata": {},
   "outputs": [],
   "source": [
    "embeddings = np.array(df['bert_embedding'].tolist())\n",
    "cosine_sim = cosine_similarity(embeddings)"
   ]
  },
  {
   "cell_type": "code",
   "execution_count": null,
   "metadata": {},
   "outputs": [],
   "source": [
    "def get_recommendations(title, cosine_sim=cosine_sim, df):\n",
    "    idx = df[df['name'] == title].index[0]\n",
    "    sim_scores = list(enumerate(cosine_sim[idx]))\n",
    "    sim_scores = sorted(sim_scores, key=lambda x: x[1], reverse=True)\n",
    "    sim_scores = sim_scores[1:11]  # 상위 10개 추천\n",
    "    game_indices = [i[0] for i in sim_scores]\n",
    "    return df['name'].iloc[game_indices]"
   ]
  },
  {
   "cell_type": "code",
   "execution_count": 46,
   "metadata": {},
   "outputs": [
    {
     "data": {
      "text/plain": [
       "0                                                     DOOM\n",
       "1                            PLAYERUNKNOWN'S BATTLEGROUNDS\n",
       "2                                               BATTLETECH\n",
       "3                                                     DayZ\n",
       "4                                               EVE Online\n",
       "                               ...                        \n",
       "40828    Rocksmith® 2014 Edition – Remastered – Sabaton...\n",
       "40829    Rocksmith® 2014 Edition – Remastered – Stone T...\n",
       "40830    Fantasy Grounds - Quests of Doom 4: A Midnight...\n",
       "40831                         Mega Man X5 Sound Collection\n",
       "40832                                     Stories In Stone\n",
       "Name: name, Length: 40833, dtype: object"
      ]
     },
     "execution_count": 46,
     "metadata": {},
     "output_type": "execute_result"
    }
   ],
   "source": [
    "df['name']"
   ]
  },
  {
   "cell_type": "code",
   "execution_count": 47,
   "metadata": {},
   "outputs": [
    {
     "name": "stdout",
     "output_type": "stream",
     "text": [
      "269                    NieR:Automata™\n",
      "467                         Far Cry 3\n",
      "385                    Risk of Rain 2\n",
      "497                      APB Reloaded\n",
      "811                       Left 4 Dead\n",
      "946    Planetary Annihilation: TITANS\n",
      "970             Stronghold Crusader 2\n",
      "271                     Left 4 Dead 2\n",
      "290                     7 Days to Die\n",
      "689         SimCity™ 4 Deluxe Edition\n",
      "Name: name, dtype: object\n"
     ]
    }
   ],
   "source": [
    "print(get_recommendations('DOOM'))"
   ]
  },
  {
   "cell_type": "code",
   "execution_count": null,
   "metadata": {},
   "outputs": [],
   "source": [
    "def get_recommendations_with_info(title, cosine_sim=cosine_sim, df):\n",
    "    idx = df[df['name'] == title].index[0]\n",
    "    sim_scores = list(enumerate(cosine_sim[idx]))\n",
    "    sim_scores = sorted(sim_scores, key=lambda x: x[1], reverse=True)\n",
    "    sim_scores = sim_scores[1:11]  # 상위 10개 추천\n",
    "    game_indices = [i[0] for i in sim_scores]\n",
    "    \n",
    "    recommendations = df.iloc[game_indices][['name', 'genre', 'developer', 'original_price']]\n",
    "    recommendations['similarity_score'] = [i[1] for i in sim_scores]\n",
    "    \n",
    "    return recommendations"
   ]
  },
  {
   "cell_type": "code",
   "execution_count": 49,
   "metadata": {},
   "outputs": [
    {
     "name": "stdout",
     "output_type": "stream",
     "text": [
      "                               name  \\\n",
      "269                  NieR:Automata™   \n",
      "467                       Far Cry 3   \n",
      "385                  Risk of Rain 2   \n",
      "497                    APB Reloaded   \n",
      "811                     Left 4 Dead   \n",
      "946  Planetary Annihilation: TITANS   \n",
      "970           Stronghold Crusader 2   \n",
      "271                   Left 4 Dead 2   \n",
      "290                   7 Days to Die   \n",
      "689       SimCity™ 4 Deluxe Edition   \n",
      "\n",
      "                                                 genre  \\\n",
      "269                                         Action,RPG   \n",
      "467                                   Action,Adventure   \n",
      "385                          Action,Indie,Early Access   \n",
      "497          Action,Free to Play,Massively Multiplayer   \n",
      "811                                             Action   \n",
      "946                                           Strategy   \n",
      "970                                Simulation,Strategy   \n",
      "271                                             Action   \n",
      "290  Action,Adventure,Indie,RPG,Simulation,Strategy...   \n",
      "689                                Simulation,Strategy   \n",
      "\n",
      "                                             developer original_price  \\\n",
      "269                     Square Enix,PlatinumGames Inc.         $39.99   \n",
      "467  Ubisoft Montreal, Massive Entertainment, and U...         $19.99   \n",
      "385                                        Hopoo Games         $19.99   \n",
      "497                                       Little Orbit   Free to Play   \n",
      "811                                              Valve          $9.99   \n",
      "946                         Planetary Annihilation Inc         $39.99   \n",
      "970                                    FireFly Studios         $39.99   \n",
      "271                                              Valve          $9.99   \n",
      "290                                      The Fun Pimps         $24.99   \n",
      "689                             EA - Maxis,Aspyr (Mac)         $19.99   \n",
      "\n",
      "     similarity_score  \n",
      "269          0.971703  \n",
      "467          0.970711  \n",
      "385          0.969844  \n",
      "497          0.967892  \n",
      "811          0.967878  \n",
      "946          0.967849  \n",
      "970          0.966455  \n",
      "271          0.966161  \n",
      "290          0.965029  \n",
      "689          0.964278  \n"
     ]
    }
   ],
   "source": [
    "print(get_recommendations_with_info('DOOM'))"
   ]
  },
  {
   "cell_type": "code",
   "execution_count": 52,
   "metadata": {},
   "outputs": [],
   "source": [
    "import joblib\n",
    "from huggingface_hub import HfApi, Repository"
   ]
  },
  {
   "cell_type": "code",
   "execution_count": 53,
   "metadata": {},
   "outputs": [],
   "source": [
    "def save_model_3(embeddings, game_data, repo_name, filename='nlp_model.pkl'):\n",
    "    # 로컬에 모델 저장\n",
    "    model_data = {\n",
    "        'embeddings': embeddings,\n",
    "        'game_data': game_data\n",
    "    }\n",
    "    joblib.dump(model_data, filename)\n",
    "    print(f\"Model 3 saved locally to {filename}\")\n",
    "\n",
    "    # Hugging Face에 업로드\n",
    "    api = HfApi()\n",
    "    repo_url = api.create_repo(repo_name, exist_ok=True)\n",
    "    \n",
    "    api.upload_file(\n",
    "        path_or_fileobj=filename,\n",
    "        path_in_repo=filename,\n",
    "        repo_id=repo_name,\n",
    "        repo_type=\"model\"\n",
    "    )\n",
    "    print(f\"Model 3 uploaded to Hugging Face: {repo_url}\")"
   ]
  },
  {
   "cell_type": "code",
   "execution_count": 54,
   "metadata": {},
   "outputs": [
    {
     "name": "stdout",
     "output_type": "stream",
     "text": [
      "Model 3 saved locally to nlp_model.pkl\n"
     ]
    },
    {
     "data": {
      "application/vnd.jupyter.widget-view+json": {
       "model_id": "81759a8c15fd41c789e18ac1ecba0f40",
       "version_major": 2,
       "version_minor": 0
      },
      "text/plain": [
       "nlp_model.pkl:   0%|          | 0.00/135M [00:00<?, ?B/s]"
      ]
     },
     "metadata": {},
     "output_type": "display_data"
    },
    {
     "name": "stdout",
     "output_type": "stream",
     "text": [
      "Model 3 uploaded to Hugging Face: https://huggingface.co/dmdals1012/steam-game-nlp-recommender\n"
     ]
    }
   ],
   "source": [
    "game_data = df[['name', 'combined_text']].to_dict('records')\n",
    "save_model_3(df['bert_embedding'].tolist(), game_data, \"dmdals1012/steam-game-nlp-recommender\")"
   ]
  },
  {
   "cell_type": "code",
   "execution_count": 55,
   "metadata": {},
   "outputs": [],
   "source": [
    "def upload_model_to_huggingface(local_file_path, repo_name, file_name):\n",
    "    # Hugging Face API 초기화\n",
    "    api = HfApi()\n",
    "    \n",
    "    # 저장소 생성 (이미 존재하는 경우 무시)\n",
    "    repo_url = api.create_repo(repo_name, exist_ok=True)\n",
    "    \n",
    "    # 파일 업로드\n",
    "    api.upload_file(\n",
    "        path_or_fileobj=local_file_path,\n",
    "        path_in_repo=file_name,\n",
    "        repo_id=repo_name,\n",
    "        repo_type=\"model\"\n",
    "    )\n",
    "    print(f\"Model uploaded to Hugging Face: {repo_url}\")"
   ]
  },
  {
   "cell_type": "code",
   "execution_count": 56,
   "metadata": {},
   "outputs": [],
   "source": [
    "local_file_path = 'content_based_model.pkl'"
   ]
  },
  {
   "cell_type": "code",
   "execution_count": 57,
   "metadata": {},
   "outputs": [],
   "source": [
    "repo_name = \"dmdals1012/steam-game-content-recommender\""
   ]
  },
  {
   "cell_type": "code",
   "execution_count": 58,
   "metadata": {},
   "outputs": [],
   "source": [
    "file_name = 'content_based_model.pkl'"
   ]
  },
  {
   "cell_type": "code",
   "execution_count": 59,
   "metadata": {},
   "outputs": [
    {
     "data": {
      "application/vnd.jupyter.widget-view+json": {
       "model_id": "9b9dd3b4f88a4c4182b7ec1acc8fda06",
       "version_major": 2,
       "version_minor": 0
      },
      "text/plain": [
       "content_based_model.pkl:   0%|          | 0.00/6.80G [00:00<?, ?B/s]"
      ]
     },
     "metadata": {},
     "output_type": "display_data"
    },
    {
     "name": "stdout",
     "output_type": "stream",
     "text": [
      "Model uploaded to Hugging Face: https://huggingface.co/dmdals1012/steam-game-content-recommender\n"
     ]
    }
   ],
   "source": [
    "upload_model_to_huggingface(local_file_path, repo_name, file_name)"
   ]
  },
  {
   "cell_type": "code",
   "execution_count": 67,
   "metadata": {},
   "outputs": [],
   "source": [
    "from surprise import Dataset, Reader, SVD\n",
    "from surprise.model_selection import train_test_split\n",
    "from surprise import accuracy"
   ]
  },
  {
   "cell_type": "code",
   "execution_count": 90,
   "metadata": {},
   "outputs": [],
   "source": [
    "dataset = load_dataset(\"swamysharavana/steam_games.csv\")\n",
    "df = pd.DataFrame(dataset['train'])"
   ]
  },
  {
   "cell_type": "code",
   "execution_count": 91,
   "metadata": {},
   "outputs": [],
   "source": [
    "df = df[['name', 'recent_reviews', 'all_reviews']]"
   ]
  },
  {
   "cell_type": "code",
   "execution_count": 92,
   "metadata": {},
   "outputs": [],
   "source": [
    "# 리뷰 데이터 전처리 함수\n",
    "def extract_review_score(review_text):\n",
    "    if pd.isna(review_text):\n",
    "        return None\n",
    "    try:\n",
    "        return int(review_text.split('%')[0]) / 20  # 100% 스케일을 5점 스케일로 변환\n",
    "    except:\n",
    "        return None"
   ]
  },
  {
   "cell_type": "code",
   "execution_count": 93,
   "metadata": {},
   "outputs": [],
   "source": [
    "df['recent_score'] = df['recent_reviews'].apply(extract_review_score)\n",
    "df['all_score'] = df['all_reviews'].apply(extract_review_score)"
   ]
  },
  {
   "cell_type": "code",
   "execution_count": 94,
   "metadata": {},
   "outputs": [],
   "source": [
    "df['score'] = df['all_score'].fillna(df['recent_score'])\n",
    "df = df.dropna(subset=['score'])"
   ]
  },
  {
   "cell_type": "code",
   "execution_count": 95,
   "metadata": {},
   "outputs": [],
   "source": [
    "num_users = 1000\n",
    "df['user_id'] = np.random.randint(1, num_users + 1, size=len(df))"
   ]
  },
  {
   "cell_type": "code",
   "execution_count": 96,
   "metadata": {},
   "outputs": [],
   "source": [
    "reader = Reader(rating_scale=(1, 5))\n",
    "data = Dataset.load_from_df(df[['user_id', 'name', 'score']], reader)"
   ]
  },
  {
   "cell_type": "code",
   "execution_count": 97,
   "metadata": {},
   "outputs": [],
   "source": [
    "trainset = data.build_full_trainset()"
   ]
  },
  {
   "cell_type": "code",
   "execution_count": 85,
   "metadata": {},
   "outputs": [
    {
     "name": "stderr",
     "output_type": "stream",
     "text": [
      "c:\\Users\\USER\\anaconda3\\envs\\hi\\lib\\site-packages\\numpy\\core\\fromnumeric.py:3504: RuntimeWarning: Mean of empty slice.\n",
      "  return _methods._mean(a, axis=axis, dtype=dtype,\n",
      "c:\\Users\\USER\\anaconda3\\envs\\hi\\lib\\site-packages\\numpy\\core\\_methods.py:129: RuntimeWarning: invalid value encountered in scalar divide\n",
      "  ret = ret.dtype.type(ret / rcount)\n"
     ]
    }
   ],
   "source": [
    "testset = trainset.build_anti_testset()\n"
   ]
  },
  {
   "cell_type": "code",
   "execution_count": 98,
   "metadata": {},
   "outputs": [],
   "source": [
    "model = SVD()"
   ]
  },
  {
   "cell_type": "code",
   "execution_count": 99,
   "metadata": {},
   "outputs": [
    {
     "name": "stderr",
     "output_type": "stream",
     "text": [
      "c:\\Users\\USER\\anaconda3\\envs\\hi\\lib\\site-packages\\numpy\\core\\fromnumeric.py:3504: RuntimeWarning: Mean of empty slice.\n",
      "  return _methods._mean(a, axis=axis, dtype=dtype,\n",
      "c:\\Users\\USER\\anaconda3\\envs\\hi\\lib\\site-packages\\numpy\\core\\_methods.py:129: RuntimeWarning: invalid value encountered in scalar divide\n",
      "  ret = ret.dtype.type(ret / rcount)\n"
     ]
    },
    {
     "data": {
      "text/plain": [
       "<surprise.prediction_algorithms.matrix_factorization.SVD at 0x249b877ad40>"
      ]
     },
     "execution_count": 99,
     "metadata": {},
     "output_type": "execute_result"
    }
   ],
   "source": [
    "model.fit(trainset)"
   ]
  },
  {
   "cell_type": "code",
   "execution_count": 100,
   "metadata": {},
   "outputs": [
    {
     "data": {
      "text/plain": [
       "['collaborative_filtering_model.pkl']"
      ]
     },
     "execution_count": 100,
     "metadata": {},
     "output_type": "execute_result"
    }
   ],
   "source": [
    "joblib.dump(model, 'collaborative_filtering_model.pkl')"
   ]
  },
  {
   "cell_type": "code",
   "execution_count": 88,
   "metadata": {},
   "outputs": [],
   "source": [
    "predictions = model.test(testset)"
   ]
  },
  {
   "cell_type": "code",
   "execution_count": 89,
   "metadata": {},
   "outputs": [
    {
     "ename": "ValueError",
     "evalue": "Prediction list is empty.",
     "output_type": "error",
     "traceback": [
      "\u001b[1;31m---------------------------------------------------------------------------\u001b[0m",
      "\u001b[1;31mValueError\u001b[0m                                Traceback (most recent call last)",
      "Cell \u001b[1;32mIn[89], line 1\u001b[0m\n\u001b[1;32m----> 1\u001b[0m rmse \u001b[38;5;241m=\u001b[39m \u001b[43maccuracy\u001b[49m\u001b[38;5;241;43m.\u001b[39;49m\u001b[43mrmse\u001b[49m\u001b[43m(\u001b[49m\u001b[43mpredictions\u001b[49m\u001b[43m)\u001b[49m\n\u001b[0;32m      2\u001b[0m mae \u001b[38;5;241m=\u001b[39m accuracy\u001b[38;5;241m.\u001b[39mmae(predictions)\n\u001b[0;32m      4\u001b[0m \u001b[38;5;28mprint\u001b[39m(\u001b[38;5;124mf\u001b[39m\u001b[38;5;124m\"\u001b[39m\u001b[38;5;124mRMSE: \u001b[39m\u001b[38;5;132;01m{\u001b[39;00mrmse\u001b[38;5;132;01m}\u001b[39;00m\u001b[38;5;124m\"\u001b[39m)\n",
      "File \u001b[1;32mc:\\Users\\USER\\anaconda3\\envs\\hi\\lib\\site-packages\\surprise\\accuracy.py:44\u001b[0m, in \u001b[0;36mrmse\u001b[1;34m(predictions, verbose)\u001b[0m\n\u001b[0;32m     22\u001b[0m \u001b[38;5;250m\u001b[39m\u001b[38;5;124;03m\"\"\"Compute RMSE (Root Mean Squared Error).\u001b[39;00m\n\u001b[0;32m     23\u001b[0m \n\u001b[0;32m     24\u001b[0m \u001b[38;5;124;03m.. math::\u001b[39;00m\n\u001b[1;32m   (...)\u001b[0m\n\u001b[0;32m     40\u001b[0m \u001b[38;5;124;03m    ValueError: When ``predictions`` is empty.\u001b[39;00m\n\u001b[0;32m     41\u001b[0m \u001b[38;5;124;03m\"\"\"\u001b[39;00m\n\u001b[0;32m     43\u001b[0m \u001b[38;5;28;01mif\u001b[39;00m \u001b[38;5;129;01mnot\u001b[39;00m predictions:\n\u001b[1;32m---> 44\u001b[0m     \u001b[38;5;28;01mraise\u001b[39;00m \u001b[38;5;167;01mValueError\u001b[39;00m(\u001b[38;5;124m\"\u001b[39m\u001b[38;5;124mPrediction list is empty.\u001b[39m\u001b[38;5;124m\"\u001b[39m)\n\u001b[0;32m     46\u001b[0m mse \u001b[38;5;241m=\u001b[39m np\u001b[38;5;241m.\u001b[39mmean(\n\u001b[0;32m     47\u001b[0m     [\u001b[38;5;28mfloat\u001b[39m((true_r \u001b[38;5;241m-\u001b[39m est) \u001b[38;5;241m*\u001b[39m\u001b[38;5;241m*\u001b[39m \u001b[38;5;241m2\u001b[39m) \u001b[38;5;28;01mfor\u001b[39;00m (_, _, true_r, est, _) \u001b[38;5;129;01min\u001b[39;00m predictions]\n\u001b[0;32m     48\u001b[0m )\n\u001b[0;32m     49\u001b[0m rmse_ \u001b[38;5;241m=\u001b[39m np\u001b[38;5;241m.\u001b[39msqrt(mse)\n",
      "\u001b[1;31mValueError\u001b[0m: Prediction list is empty."
     ]
    }
   ],
   "source": [
    "rmse = accuracy.rmse(predictions)\n",
    "mae = accuracy.mae(predictions)\n",
    "\n",
    "print(f\"RMSE: {rmse}\")\n",
    "print(f\"MAE: {mae}\")"
   ]
  },
  {
   "cell_type": "code",
   "execution_count": 78,
   "metadata": {},
   "outputs": [
    {
     "ename": "ValueError",
     "evalue": "test_size=0.25 should be less than the number of ratings 0",
     "output_type": "error",
     "traceback": [
      "\u001b[1;31m---------------------------------------------------------------------------\u001b[0m",
      "\u001b[1;31mValueError\u001b[0m                                Traceback (most recent call last)",
      "Cell \u001b[1;32mIn[78], line 1\u001b[0m\n\u001b[1;32m----> 1\u001b[0m trainset, testset \u001b[38;5;241m=\u001b[39m \u001b[43mtrain_test_split\u001b[49m\u001b[43m(\u001b[49m\u001b[43mdata\u001b[49m\u001b[43m,\u001b[49m\u001b[43m \u001b[49m\u001b[43mtest_size\u001b[49m\u001b[38;5;241;43m=\u001b[39;49m\u001b[38;5;241;43m0.25\u001b[39;49m\u001b[43m,\u001b[49m\u001b[43m \u001b[49m\u001b[43mrandom_state\u001b[49m\u001b[38;5;241;43m=\u001b[39;49m\u001b[38;5;241;43m42\u001b[39;49m\u001b[43m)\u001b[49m\n",
      "File \u001b[1;32mc:\\Users\\USER\\anaconda3\\envs\\hi\\lib\\site-packages\\surprise\\model_selection\\split.py:355\u001b[0m, in \u001b[0;36mtrain_test_split\u001b[1;34m(data, test_size, train_size, random_state, shuffle)\u001b[0m\n\u001b[0;32m    319\u001b[0m \u001b[38;5;250m\u001b[39m\u001b[38;5;124;03m\"\"\"Split a dataset into trainset and testset.\u001b[39;00m\n\u001b[0;32m    320\u001b[0m \n\u001b[0;32m    321\u001b[0m \u001b[38;5;124;03mSee an example in the :ref:`User Guide <train_test_split_example>`.\u001b[39;00m\n\u001b[1;32m   (...)\u001b[0m\n\u001b[0;32m    346\u001b[0m \u001b[38;5;124;03m        parameter. Shuffling is not done in-place. Default is ``True``.\u001b[39;00m\n\u001b[0;32m    347\u001b[0m \u001b[38;5;124;03m\"\"\"\u001b[39;00m\n\u001b[0;32m    348\u001b[0m ss \u001b[38;5;241m=\u001b[39m ShuffleSplit(\n\u001b[0;32m    349\u001b[0m     n_splits\u001b[38;5;241m=\u001b[39m\u001b[38;5;241m1\u001b[39m,\n\u001b[0;32m    350\u001b[0m     test_size\u001b[38;5;241m=\u001b[39mtest_size,\n\u001b[1;32m   (...)\u001b[0m\n\u001b[0;32m    353\u001b[0m     shuffle\u001b[38;5;241m=\u001b[39mshuffle,\n\u001b[0;32m    354\u001b[0m )\n\u001b[1;32m--> 355\u001b[0m \u001b[38;5;28;01mreturn\u001b[39;00m \u001b[38;5;28;43mnext\u001b[39;49m\u001b[43m(\u001b[49m\u001b[43mss\u001b[49m\u001b[38;5;241;43m.\u001b[39;49m\u001b[43msplit\u001b[49m\u001b[43m(\u001b[49m\u001b[43mdata\u001b[49m\u001b[43m)\u001b[49m\u001b[43m)\u001b[49m\n",
      "File \u001b[1;32mc:\\Users\\USER\\anaconda3\\envs\\hi\\lib\\site-packages\\surprise\\model_selection\\split.py:288\u001b[0m, in \u001b[0;36mShuffleSplit.split\u001b[1;34m(self, data)\u001b[0m\n\u001b[0;32m    277\u001b[0m \u001b[38;5;28;01mdef\u001b[39;00m \u001b[38;5;21msplit\u001b[39m(\u001b[38;5;28mself\u001b[39m, data):\n\u001b[0;32m    278\u001b[0m \u001b[38;5;250m    \u001b[39m\u001b[38;5;124;03m\"\"\"Generator function to iterate over trainsets and testsets.\u001b[39;00m\n\u001b[0;32m    279\u001b[0m \n\u001b[0;32m    280\u001b[0m \u001b[38;5;124;03m    Args:\u001b[39;00m\n\u001b[1;32m   (...)\u001b[0m\n\u001b[0;32m    285\u001b[0m \u001b[38;5;124;03m        tuple of (trainset, testset)\u001b[39;00m\n\u001b[0;32m    286\u001b[0m \u001b[38;5;124;03m    \"\"\"\u001b[39;00m\n\u001b[1;32m--> 288\u001b[0m     test_size, train_size \u001b[38;5;241m=\u001b[39m \u001b[38;5;28;43mself\u001b[39;49m\u001b[38;5;241;43m.\u001b[39;49m\u001b[43mvalidate_train_test_sizes\u001b[49m\u001b[43m(\u001b[49m\n\u001b[0;32m    289\u001b[0m \u001b[43m        \u001b[49m\u001b[38;5;28;43mself\u001b[39;49m\u001b[38;5;241;43m.\u001b[39;49m\u001b[43mtest_size\u001b[49m\u001b[43m,\u001b[49m\u001b[43m \u001b[49m\u001b[38;5;28;43mself\u001b[39;49m\u001b[38;5;241;43m.\u001b[39;49m\u001b[43mtrain_size\u001b[49m\u001b[43m,\u001b[49m\u001b[43m \u001b[49m\u001b[38;5;28;43mlen\u001b[39;49m\u001b[43m(\u001b[49m\u001b[43mdata\u001b[49m\u001b[38;5;241;43m.\u001b[39;49m\u001b[43mraw_ratings\u001b[49m\u001b[43m)\u001b[49m\n\u001b[0;32m    290\u001b[0m \u001b[43m    \u001b[49m\u001b[43m)\u001b[49m\n\u001b[0;32m    291\u001b[0m     rng \u001b[38;5;241m=\u001b[39m get_rng(\u001b[38;5;28mself\u001b[39m\u001b[38;5;241m.\u001b[39mrandom_state)\n\u001b[0;32m    293\u001b[0m     \u001b[38;5;28;01mfor\u001b[39;00m _ \u001b[38;5;129;01min\u001b[39;00m \u001b[38;5;28mrange\u001b[39m(\u001b[38;5;28mself\u001b[39m\u001b[38;5;241m.\u001b[39mn_splits):\n",
      "File \u001b[1;32mc:\\Users\\USER\\anaconda3\\envs\\hi\\lib\\site-packages\\surprise\\model_selection\\split.py:246\u001b[0m, in \u001b[0;36mShuffleSplit.validate_train_test_sizes\u001b[1;34m(self, test_size, train_size, n_ratings)\u001b[0m\n\u001b[0;32m    243\u001b[0m \u001b[38;5;28;01mdef\u001b[39;00m \u001b[38;5;21mvalidate_train_test_sizes\u001b[39m(\u001b[38;5;28mself\u001b[39m, test_size, train_size, n_ratings):\n\u001b[0;32m    245\u001b[0m     \u001b[38;5;28;01mif\u001b[39;00m test_size \u001b[38;5;129;01mis\u001b[39;00m \u001b[38;5;129;01mnot\u001b[39;00m \u001b[38;5;28;01mNone\u001b[39;00m \u001b[38;5;129;01mand\u001b[39;00m test_size \u001b[38;5;241m>\u001b[39m\u001b[38;5;241m=\u001b[39m n_ratings:\n\u001b[1;32m--> 246\u001b[0m         \u001b[38;5;28;01mraise\u001b[39;00m \u001b[38;5;167;01mValueError\u001b[39;00m(\n\u001b[0;32m    247\u001b[0m             \u001b[38;5;124m\"\u001b[39m\u001b[38;5;124mtest_size=\u001b[39m\u001b[38;5;132;01m{}\u001b[39;00m\u001b[38;5;124m should be less than the number of \u001b[39m\u001b[38;5;124m\"\u001b[39m\n\u001b[0;32m    248\u001b[0m             \u001b[38;5;124m\"\u001b[39m\u001b[38;5;124mratings \u001b[39m\u001b[38;5;132;01m{}\u001b[39;00m\u001b[38;5;124m\"\u001b[39m\u001b[38;5;241m.\u001b[39mformat(test_size, n_ratings)\n\u001b[0;32m    249\u001b[0m         )\n\u001b[0;32m    251\u001b[0m     \u001b[38;5;28;01mif\u001b[39;00m train_size \u001b[38;5;129;01mis\u001b[39;00m \u001b[38;5;129;01mnot\u001b[39;00m \u001b[38;5;28;01mNone\u001b[39;00m \u001b[38;5;129;01mand\u001b[39;00m train_size \u001b[38;5;241m>\u001b[39m\u001b[38;5;241m=\u001b[39m n_ratings:\n\u001b[0;32m    252\u001b[0m         \u001b[38;5;28;01mraise\u001b[39;00m \u001b[38;5;167;01mValueError\u001b[39;00m(\n\u001b[0;32m    253\u001b[0m             \u001b[38;5;124m\"\u001b[39m\u001b[38;5;124mtrain_size=\u001b[39m\u001b[38;5;132;01m{}\u001b[39;00m\u001b[38;5;124m should be less than the number of\u001b[39m\u001b[38;5;124m\"\u001b[39m\n\u001b[0;32m    254\u001b[0m             \u001b[38;5;124m\"\u001b[39m\u001b[38;5;124m ratings \u001b[39m\u001b[38;5;132;01m{}\u001b[39;00m\u001b[38;5;124m\"\u001b[39m\u001b[38;5;241m.\u001b[39mformat(train_size, n_ratings)\n\u001b[0;32m    255\u001b[0m         )\n",
      "\u001b[1;31mValueError\u001b[0m: test_size=0.25 should be less than the number of ratings 0"
     ]
    }
   ],
   "source": [
    "trainset, testset = train_test_split(data, test_size=0.25, random_state=42)"
   ]
  },
  {
   "cell_type": "code",
   "execution_count": null,
   "metadata": {},
   "outputs": [],
   "source": []
  },
  {
   "cell_type": "code",
   "execution_count": null,
   "metadata": {},
   "outputs": [],
   "source": []
  },
  {
   "cell_type": "code",
   "execution_count": null,
   "metadata": {},
   "outputs": [],
   "source": []
  },
  {
   "cell_type": "code",
   "execution_count": null,
   "metadata": {},
   "outputs": [],
   "source": []
  },
  {
   "cell_type": "code",
   "execution_count": null,
   "metadata": {},
   "outputs": [],
   "source": []
  },
  {
   "cell_type": "code",
   "execution_count": null,
   "metadata": {},
   "outputs": [],
   "source": []
  },
  {
   "cell_type": "code",
   "execution_count": null,
   "metadata": {},
   "outputs": [],
   "source": []
  },
  {
   "cell_type": "code",
   "execution_count": null,
   "metadata": {},
   "outputs": [],
   "source": []
  },
  {
   "cell_type": "code",
   "execution_count": null,
   "metadata": {},
   "outputs": [],
   "source": []
  },
  {
   "cell_type": "code",
   "execution_count": null,
   "metadata": {},
   "outputs": [],
   "source": []
  },
  {
   "cell_type": "code",
   "execution_count": null,
   "metadata": {},
   "outputs": [],
   "source": []
  },
  {
   "cell_type": "code",
   "execution_count": null,
   "metadata": {},
   "outputs": [],
   "source": []
  },
  {
   "cell_type": "code",
   "execution_count": null,
   "metadata": {},
   "outputs": [],
   "source": []
  },
  {
   "cell_type": "code",
   "execution_count": null,
   "metadata": {},
   "outputs": [],
   "source": []
  },
  {
   "cell_type": "code",
   "execution_count": null,
   "metadata": {},
   "outputs": [],
   "source": []
  },
  {
   "cell_type": "code",
   "execution_count": null,
   "metadata": {},
   "outputs": [],
   "source": []
  },
  {
   "cell_type": "code",
   "execution_count": null,
   "metadata": {},
   "outputs": [],
   "source": []
  },
  {
   "cell_type": "code",
   "execution_count": null,
   "metadata": {},
   "outputs": [],
   "source": []
  },
  {
   "cell_type": "code",
   "execution_count": null,
   "metadata": {},
   "outputs": [],
   "source": []
  },
  {
   "cell_type": "code",
   "execution_count": null,
   "metadata": {},
   "outputs": [],
   "source": []
  },
  {
   "cell_type": "code",
   "execution_count": null,
   "metadata": {},
   "outputs": [],
   "source": []
  },
  {
   "cell_type": "code",
   "execution_count": null,
   "metadata": {},
   "outputs": [],
   "source": []
  },
  {
   "cell_type": "code",
   "execution_count": null,
   "metadata": {},
   "outputs": [],
   "source": []
  },
  {
   "cell_type": "code",
   "execution_count": null,
   "metadata": {},
   "outputs": [],
   "source": []
  }
 ],
 "metadata": {
  "kernelspec": {
   "display_name": "hi",
   "language": "python",
   "name": "python3"
  },
  "language_info": {
   "codemirror_mode": {
    "name": "ipython",
    "version": 3
   },
   "file_extension": ".py",
   "mimetype": "text/x-python",
   "name": "python",
   "nbconvert_exporter": "python",
   "pygments_lexer": "ipython3",
   "version": "3.10.16"
  }
 },
 "nbformat": 4,
 "nbformat_minor": 2
}
